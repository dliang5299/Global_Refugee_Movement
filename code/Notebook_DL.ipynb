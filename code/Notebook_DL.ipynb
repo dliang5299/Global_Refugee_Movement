{
 "cells": [
  {
   "cell_type": "markdown",
   "id": "375f99ea",
   "metadata": {},
   "source": [
    "# Project notebook"
   ]
  },
  {
   "cell_type": "code",
   "execution_count": 1,
   "id": "f536bc48",
   "metadata": {},
   "outputs": [],
   "source": [
    "import pandas as pd\n",
    "import neo4j\n",
    "import os\n",
    "import psycopg2"
   ]
  },
  {
   "cell_type": "markdown",
   "id": "d3a34a37",
   "metadata": {},
   "source": [
    "## Neo4j setup"
   ]
  },
  {
   "cell_type": "code",
   "execution_count": 2,
   "id": "0efb102a",
   "metadata": {},
   "outputs": [],
   "source": [
    "driver = neo4j.GraphDatabase.driver(uri=\"neo4j://neo4j:7687\", auth=(\"neo4j\",\"ucb_mids_w205\"))"
   ]
  },
  {
   "cell_type": "code",
   "execution_count": 3,
   "id": "44e96c59",
   "metadata": {},
   "outputs": [],
   "source": [
    "session = driver.session(database=\"neo4j\")"
   ]
  },
  {
   "cell_type": "code",
   "execution_count": 4,
   "id": "dc5a6521",
   "metadata": {},
   "outputs": [],
   "source": [
    "def my_neo4j_wipe_out_database():\n",
    "    \"wipe out database by deleting all nodes and relationships\"\n",
    "    \n",
    "    query = \"match (node)-[relationship]->() delete node, relationship\"\n",
    "    session.run(query)\n",
    "    \n",
    "    query = \"match (node) delete node\"\n",
    "    session.run(query)"
   ]
  },
  {
   "cell_type": "code",
   "execution_count": 5,
   "id": "ec95b477",
   "metadata": {},
   "outputs": [],
   "source": [
    "def my_neo4j_create_node(country):\n",
    "    \"create a node with label Country\"\n",
    "    \n",
    "    query = \"\"\"\n",
    "    \n",
    "    CREATE (:Country {name: $country})\n",
    "    \n",
    "    \"\"\"\n",
    "    \n",
    "    session.run(query, country=country)\n",
    "    "
   ]
  },
  {
   "cell_type": "code",
   "execution_count": 6,
   "id": "eb8e219a",
   "metadata": {},
   "outputs": [],
   "source": [
    "def my_neo4j_create_relationship_one_way(from_country, to_country, weight):\n",
    "    \"create relationships one way between two countries with a weight\"\n",
    "    \n",
    "    query = \"\"\"\n",
    "    \n",
    "    MATCH (from:Country), \n",
    "          (to:Country)\n",
    "    WHERE from.name = $from_country and to.name = $to_country\n",
    "    CREATE (from)-[:LINK {weight: $weight}]->(to)\n",
    "\n",
    "    \n",
    "    \"\"\"\n",
    "    \n",
    "    session.run(query, from_country=from_country, to_country=to_country, weight=weight)\n",
    "    "
   ]
  },
  {
   "cell_type": "code",
   "execution_count": 7,
   "id": "a3b57035",
   "metadata": {},
   "outputs": [],
   "source": [
    "my_neo4j_wipe_out_database()"
   ]
  },
  {
   "cell_type": "markdown",
   "id": "24e6969e",
   "metadata": {},
   "source": [
    "## Postgres setup"
   ]
  },
  {
   "cell_type": "code",
   "execution_count": 8,
   "id": "df7f9e2b",
   "metadata": {},
   "outputs": [],
   "source": [
    "connection = psycopg2.connect(\n",
    "    user = \"postgres\",\n",
    "    password = \"ucb\",\n",
    "    host = \"postgres\",\n",
    "    port = \"5432\",\n",
    "    database = \"postgres\"\n",
    ")"
   ]
  },
  {
   "cell_type": "code",
   "execution_count": 9,
   "id": "8ae24326",
   "metadata": {},
   "outputs": [],
   "source": [
    "cursor = connection.cursor()"
   ]
  },
  {
   "cell_type": "markdown",
   "id": "8f87fe80",
   "metadata": {},
   "source": [
    "## Importing refugee movement data"
   ]
  },
  {
   "cell_type": "code",
   "execution_count": 10,
   "id": "eb10badd",
   "metadata": {},
   "outputs": [
    {
     "data": {
      "text/html": [
       "<div>\n",
       "<style scoped>\n",
       "    .dataframe tbody tr th:only-of-type {\n",
       "        vertical-align: middle;\n",
       "    }\n",
       "\n",
       "    .dataframe tbody tr th {\n",
       "        vertical-align: top;\n",
       "    }\n",
       "\n",
       "    .dataframe thead th {\n",
       "        text-align: right;\n",
       "    }\n",
       "</style>\n",
       "<table border=\"1\" class=\"dataframe\">\n",
       "  <thead>\n",
       "    <tr style=\"text-align: right;\">\n",
       "      <th></th>\n",
       "      <th>year</th>\n",
       "      <th>coo_name</th>\n",
       "      <th>coo</th>\n",
       "      <th>coo_iso</th>\n",
       "      <th>coa_name</th>\n",
       "      <th>coa</th>\n",
       "      <th>coa_iso</th>\n",
       "      <th>refugees</th>\n",
       "      <th>asylum_seekers</th>\n",
       "      <th>returned_refugees</th>\n",
       "      <th>idps</th>\n",
       "      <th>returned_idps</th>\n",
       "      <th>stateless</th>\n",
       "      <th>ooc</th>\n",
       "      <th>oip</th>\n",
       "      <th>hst</th>\n",
       "    </tr>\n",
       "  </thead>\n",
       "  <tbody>\n",
       "    <tr>\n",
       "      <th>0</th>\n",
       "      <td>2010</td>\n",
       "      <td>Afghanistan</td>\n",
       "      <td>AFG</td>\n",
       "      <td>AFG</td>\n",
       "      <td>Afghanistan</td>\n",
       "      <td>AFG</td>\n",
       "      <td>AFG</td>\n",
       "      <td>0</td>\n",
       "      <td>0</td>\n",
       "      <td>0</td>\n",
       "      <td>351907</td>\n",
       "      <td>3366</td>\n",
       "      <td>0</td>\n",
       "      <td>838250</td>\n",
       "      <td>NaN</td>\n",
       "      <td>NaN</td>\n",
       "    </tr>\n",
       "    <tr>\n",
       "      <th>1</th>\n",
       "      <td>2010</td>\n",
       "      <td>Iran (Islamic Rep. of)</td>\n",
       "      <td>IRN</td>\n",
       "      <td>IRN</td>\n",
       "      <td>Afghanistan</td>\n",
       "      <td>AFG</td>\n",
       "      <td>AFG</td>\n",
       "      <td>30</td>\n",
       "      <td>21</td>\n",
       "      <td>0</td>\n",
       "      <td>0</td>\n",
       "      <td>0</td>\n",
       "      <td>0</td>\n",
       "      <td>0</td>\n",
       "      <td>NaN</td>\n",
       "      <td>NaN</td>\n",
       "    </tr>\n",
       "    <tr>\n",
       "      <th>2</th>\n",
       "      <td>2010</td>\n",
       "      <td>Iraq</td>\n",
       "      <td>IRQ</td>\n",
       "      <td>IRQ</td>\n",
       "      <td>Afghanistan</td>\n",
       "      <td>AFG</td>\n",
       "      <td>AFG</td>\n",
       "      <td>6</td>\n",
       "      <td>0</td>\n",
       "      <td>0</td>\n",
       "      <td>0</td>\n",
       "      <td>0</td>\n",
       "      <td>0</td>\n",
       "      <td>0</td>\n",
       "      <td>NaN</td>\n",
       "      <td>NaN</td>\n",
       "    </tr>\n",
       "    <tr>\n",
       "      <th>3</th>\n",
       "      <td>2010</td>\n",
       "      <td>Pakistan</td>\n",
       "      <td>PAK</td>\n",
       "      <td>PAK</td>\n",
       "      <td>Afghanistan</td>\n",
       "      <td>AFG</td>\n",
       "      <td>AFG</td>\n",
       "      <td>6398</td>\n",
       "      <td>9</td>\n",
       "      <td>0</td>\n",
       "      <td>0</td>\n",
       "      <td>0</td>\n",
       "      <td>0</td>\n",
       "      <td>0</td>\n",
       "      <td>NaN</td>\n",
       "      <td>NaN</td>\n",
       "    </tr>\n",
       "    <tr>\n",
       "      <th>4</th>\n",
       "      <td>2010</td>\n",
       "      <td>Egypt</td>\n",
       "      <td>ARE</td>\n",
       "      <td>EGY</td>\n",
       "      <td>Albania</td>\n",
       "      <td>ALB</td>\n",
       "      <td>ALB</td>\n",
       "      <td>5</td>\n",
       "      <td>0</td>\n",
       "      <td>0</td>\n",
       "      <td>0</td>\n",
       "      <td>0</td>\n",
       "      <td>0</td>\n",
       "      <td>0</td>\n",
       "      <td>NaN</td>\n",
       "      <td>NaN</td>\n",
       "    </tr>\n",
       "  </tbody>\n",
       "</table>\n",
       "</div>"
      ],
      "text/plain": [
       "   year                coo_name  coo coo_iso     coa_name  coa coa_iso  \\\n",
       "0  2010             Afghanistan  AFG     AFG  Afghanistan  AFG     AFG   \n",
       "1  2010  Iran (Islamic Rep. of)  IRN     IRN  Afghanistan  AFG     AFG   \n",
       "2  2010                    Iraq  IRQ     IRQ  Afghanistan  AFG     AFG   \n",
       "3  2010                Pakistan  PAK     PAK  Afghanistan  AFG     AFG   \n",
       "4  2010                   Egypt  ARE     EGY      Albania  ALB     ALB   \n",
       "\n",
       "   refugees  asylum_seekers  returned_refugees    idps  returned_idps  \\\n",
       "0         0               0                  0  351907           3366   \n",
       "1        30              21                  0       0              0   \n",
       "2         6               0                  0       0              0   \n",
       "3      6398               9                  0       0              0   \n",
       "4         5               0                  0       0              0   \n",
       "\n",
       "   stateless     ooc  oip  hst  \n",
       "0          0  838250  NaN  NaN  \n",
       "1          0       0  NaN  NaN  \n",
       "2          0       0  NaN  NaN  \n",
       "3          0       0  NaN  NaN  \n",
       "4          0       0  NaN  NaN  "
      ]
     },
     "execution_count": 10,
     "metadata": {},
     "output_type": "execute_result"
    }
   ],
   "source": [
    "# Load population.csv from Github\n",
    "url = \"https://raw.githubusercontent.com/rfordatascience/tidytuesday/master/data/2023/2023-08-22/population.csv\"\n",
    "df = pd.read_csv(url)\n",
    "df.head()"
   ]
  },
  {
   "cell_type": "markdown",
   "id": "9a22416b",
   "metadata": {},
   "source": [
    "## Creating country nodes in Neo4j"
   ]
  },
  {
   "cell_type": "code",
   "execution_count": 11,
   "id": "df5219db",
   "metadata": {},
   "outputs": [
    {
     "name": "stdout",
     "output_type": "stream",
     "text": [
      "Nodes DF unique?  True\n"
     ]
    }
   ],
   "source": [
    "# Create origin and arrival countries DF for appending\n",
    "origin_df = df[['coo_name', 'coo']].rename(columns = {'coo_name': 'country_full', 'coo': 'country'})\n",
    "arrival_df = df[['coa_name', 'coa']].rename(columns = {'coa_name': 'country_full', 'coa': 'country'})\n",
    "nodes_df = pd.concat([origin_df, arrival_df])\n",
    "\n",
    "# Create countries table (nodes)\n",
    "nodes_df = nodes_df.drop_duplicates()\n",
    "\n",
    "# Ensure 1:1 mapping between country names and codes\n",
    "print(\"Nodes DF unique? \", nodes_df['country_full'].is_unique)\n",
    "\n",
    "# Specify file paths for saving CSVs\n",
    "main_dir = os.path.abspath(os.path.join(os.getcwd(), '..'))\n",
    "nodes_path = os.path.join(main_dir, 'nodes.csv')\n",
    "nodes_df.to_csv(nodes_path, index = False)"
   ]
  },
  {
   "cell_type": "code",
   "execution_count": 12,
   "id": "dc7e19ea",
   "metadata": {},
   "outputs": [],
   "source": [
    "# Query into countries table for nodes\n",
    "connection.rollback()\n",
    "\n",
    "query = \"\"\"\n",
    "\n",
    "drop table if exists countries;\n",
    "\n",
    "create table countries (\n",
    "  country_full varchar(100),\n",
    "  country varchar(100)\n",
    ");\n",
    "\n",
    "copy countries (country_full, country)\n",
    "from '/user/projects/project-3-dliang5299/nodes.csv' delimiter ',' NULL '' csv header;\n",
    "\n",
    "select country\n",
    "from countries\n",
    "order by country;\n",
    "\n",
    "\"\"\"\n",
    "\n",
    "cursor.execute(query)\n",
    "\n",
    "connection.rollback()\n",
    "\n",
    "rows = cursor.fetchall()\n",
    "\n",
    "for row in rows:\n",
    "    \n",
    "    country = row[0]\n",
    "    \n",
    "    my_neo4j_create_node(country)\n"
   ]
  },
  {
   "cell_type": "markdown",
   "id": "e906dfdb",
   "metadata": {},
   "source": [
    "## Create migration movement relationships"
   ]
  },
  {
   "cell_type": "code",
   "execution_count": 13,
   "id": "7a1ed991",
   "metadata": {},
   "outputs": [
    {
     "data": {
      "text/html": [
       "<div>\n",
       "<style scoped>\n",
       "    .dataframe tbody tr th:only-of-type {\n",
       "        vertical-align: middle;\n",
       "    }\n",
       "\n",
       "    .dataframe tbody tr th {\n",
       "        vertical-align: top;\n",
       "    }\n",
       "\n",
       "    .dataframe thead th {\n",
       "        text-align: right;\n",
       "    }\n",
       "</style>\n",
       "<table border=\"1\" class=\"dataframe\">\n",
       "  <thead>\n",
       "    <tr style=\"text-align: right;\">\n",
       "      <th></th>\n",
       "      <th>refugees</th>\n",
       "    </tr>\n",
       "  </thead>\n",
       "  <tbody>\n",
       "    <tr>\n",
       "      <th>count</th>\n",
       "      <td>5.654000e+03</td>\n",
       "    </tr>\n",
       "    <tr>\n",
       "      <th>mean</th>\n",
       "      <td>3.943117e+04</td>\n",
       "    </tr>\n",
       "    <tr>\n",
       "      <th>std</th>\n",
       "      <td>5.808567e+05</td>\n",
       "    </tr>\n",
       "    <tr>\n",
       "      <th>min</th>\n",
       "      <td>5.000000e+00</td>\n",
       "    </tr>\n",
       "    <tr>\n",
       "      <th>25%</th>\n",
       "      <td>3.900000e+01</td>\n",
       "    </tr>\n",
       "    <tr>\n",
       "      <th>50%</th>\n",
       "      <td>1.440000e+02</td>\n",
       "    </tr>\n",
       "    <tr>\n",
       "      <th>75%</th>\n",
       "      <td>1.077000e+03</td>\n",
       "    </tr>\n",
       "    <tr>\n",
       "      <th>max</th>\n",
       "      <td>2.925714e+07</td>\n",
       "    </tr>\n",
       "  </tbody>\n",
       "</table>\n",
       "</div>"
      ],
      "text/plain": [
       "           refugees\n",
       "count  5.654000e+03\n",
       "mean   3.943117e+04\n",
       "std    5.808567e+05\n",
       "min    5.000000e+00\n",
       "25%    3.900000e+01\n",
       "50%    1.440000e+02\n",
       "75%    1.077000e+03\n",
       "max    2.925714e+07"
      ]
     },
     "execution_count": 13,
     "metadata": {},
     "output_type": "execute_result"
    }
   ],
   "source": [
    "# Aggregate migration across all years by country pairs\n",
    "migration_df = df.groupby(['coo', 'coa'])['refugees'].sum().reset_index()\n",
    "migration_df = migration_df.rename(columns = {'coo': 'to_country', 'coa': 'from_country'})\n",
    "migration_df = migration_df[migration_df['refugees'] > 0]\n",
    "\n",
    "# Specify file paths for saving CSV\n",
    "migration_path = os.path.join(main_dir, 'migration.csv')\n",
    "migration_df.to_csv(migration_path, index = False)\n",
    "\n",
    "# Display summary stats for refugees\n",
    "migration_df.describe()"
   ]
  },
  {
   "cell_type": "code",
   "execution_count": 14,
   "id": "d79aef97",
   "metadata": {},
   "outputs": [],
   "source": [
    "# Query into migration table for relationships\n",
    "connection.rollback()\n",
    "\n",
    "query = \"\"\"\n",
    "\n",
    "drop table if exists migration;\n",
    "\n",
    "create table migration (\n",
    "  to_country varchar(100),\n",
    "  from_country varchar(100),\n",
    "  refugees numeric(8)\n",
    ");\n",
    "\n",
    "copy migration (to_country, from_country, refugees)\n",
    "from '/user/projects/project-3-dliang5299/migration.csv' delimiter ',' NULL '' csv header;\n",
    "\n",
    "select to_country, from_country, refugees\n",
    "from migration\n",
    "order by to_country, from_country;\n",
    "\n",
    "\"\"\"\n",
    "\n",
    "cursor.execute(query)\n",
    "\n",
    "connection.rollback()\n",
    "\n",
    "rows = cursor.fetchall()\n",
    "\n",
    "for row in rows:\n",
    "    \n",
    "    from_country = row[0]\n",
    "    to_country = row[1]\n",
    "    weight = row[2]\n",
    "    \n",
    "    my_neo4j_create_relationship_one_way(from_country, to_country, int(weight))\n"
   ]
  }
 ],
 "metadata": {
  "kernelspec": {
   "display_name": "Python 3 (ipykernel)",
   "language": "python",
   "name": "python3"
  },
  "language_info": {
   "codemirror_mode": {
    "name": "ipython",
    "version": 3
   },
   "file_extension": ".py",
   "mimetype": "text/x-python",
   "name": "python",
   "nbconvert_exporter": "python",
   "pygments_lexer": "ipython3",
   "version": "3.9.7"
  }
 },
 "nbformat": 4,
 "nbformat_minor": 5
}
