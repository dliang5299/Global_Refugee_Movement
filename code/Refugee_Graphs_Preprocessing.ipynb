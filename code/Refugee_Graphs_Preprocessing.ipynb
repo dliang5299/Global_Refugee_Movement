{
 "cells": [
  {
   "cell_type": "markdown",
   "id": "375f99ea",
   "metadata": {},
   "source": [
    "# Graph preprocessing"
   ]
  },
  {
   "cell_type": "code",
   "execution_count": 1,
   "id": "f536bc48",
   "metadata": {},
   "outputs": [],
   "source": [
    "import numpy as np\n",
    "import pandas as pd\n",
    "import neo4j\n",
    "import os\n",
    "import psycopg2"
   ]
  },
  {
   "cell_type": "markdown",
   "id": "8f87fe80",
   "metadata": {},
   "source": [
    "## Importing refugee movement data"
   ]
  },
  {
   "cell_type": "code",
   "execution_count": 2,
   "id": "eb10badd",
   "metadata": {},
   "outputs": [
    {
     "name": "stdout",
     "output_type": "stream",
     "text": [
      "(64809, 16)\n"
     ]
    },
    {
     "data": {
      "text/html": [
       "<div>\n",
       "<style scoped>\n",
       "    .dataframe tbody tr th:only-of-type {\n",
       "        vertical-align: middle;\n",
       "    }\n",
       "\n",
       "    .dataframe tbody tr th {\n",
       "        vertical-align: top;\n",
       "    }\n",
       "\n",
       "    .dataframe thead th {\n",
       "        text-align: right;\n",
       "    }\n",
       "</style>\n",
       "<table border=\"1\" class=\"dataframe\">\n",
       "  <thead>\n",
       "    <tr style=\"text-align: right;\">\n",
       "      <th></th>\n",
       "      <th>year</th>\n",
       "      <th>coo_name</th>\n",
       "      <th>coo</th>\n",
       "      <th>coo_iso</th>\n",
       "      <th>coa_name</th>\n",
       "      <th>coa</th>\n",
       "      <th>coa_iso</th>\n",
       "      <th>refugees</th>\n",
       "      <th>asylum_seekers</th>\n",
       "      <th>returned_refugees</th>\n",
       "      <th>idps</th>\n",
       "      <th>returned_idps</th>\n",
       "      <th>stateless</th>\n",
       "      <th>ooc</th>\n",
       "      <th>oip</th>\n",
       "      <th>hst</th>\n",
       "    </tr>\n",
       "  </thead>\n",
       "  <tbody>\n",
       "    <tr>\n",
       "      <th>0</th>\n",
       "      <td>2010</td>\n",
       "      <td>Afghanistan</td>\n",
       "      <td>AFG</td>\n",
       "      <td>AFG</td>\n",
       "      <td>Afghanistan</td>\n",
       "      <td>AFG</td>\n",
       "      <td>AFG</td>\n",
       "      <td>0</td>\n",
       "      <td>0</td>\n",
       "      <td>0</td>\n",
       "      <td>351907</td>\n",
       "      <td>3366</td>\n",
       "      <td>0</td>\n",
       "      <td>838250</td>\n",
       "      <td>NaN</td>\n",
       "      <td>NaN</td>\n",
       "    </tr>\n",
       "    <tr>\n",
       "      <th>1</th>\n",
       "      <td>2010</td>\n",
       "      <td>Iran (Islamic Rep. of)</td>\n",
       "      <td>IRN</td>\n",
       "      <td>IRN</td>\n",
       "      <td>Afghanistan</td>\n",
       "      <td>AFG</td>\n",
       "      <td>AFG</td>\n",
       "      <td>30</td>\n",
       "      <td>21</td>\n",
       "      <td>0</td>\n",
       "      <td>0</td>\n",
       "      <td>0</td>\n",
       "      <td>0</td>\n",
       "      <td>0</td>\n",
       "      <td>NaN</td>\n",
       "      <td>NaN</td>\n",
       "    </tr>\n",
       "    <tr>\n",
       "      <th>2</th>\n",
       "      <td>2010</td>\n",
       "      <td>Iraq</td>\n",
       "      <td>IRQ</td>\n",
       "      <td>IRQ</td>\n",
       "      <td>Afghanistan</td>\n",
       "      <td>AFG</td>\n",
       "      <td>AFG</td>\n",
       "      <td>6</td>\n",
       "      <td>0</td>\n",
       "      <td>0</td>\n",
       "      <td>0</td>\n",
       "      <td>0</td>\n",
       "      <td>0</td>\n",
       "      <td>0</td>\n",
       "      <td>NaN</td>\n",
       "      <td>NaN</td>\n",
       "    </tr>\n",
       "    <tr>\n",
       "      <th>3</th>\n",
       "      <td>2010</td>\n",
       "      <td>Pakistan</td>\n",
       "      <td>PAK</td>\n",
       "      <td>PAK</td>\n",
       "      <td>Afghanistan</td>\n",
       "      <td>AFG</td>\n",
       "      <td>AFG</td>\n",
       "      <td>6398</td>\n",
       "      <td>9</td>\n",
       "      <td>0</td>\n",
       "      <td>0</td>\n",
       "      <td>0</td>\n",
       "      <td>0</td>\n",
       "      <td>0</td>\n",
       "      <td>NaN</td>\n",
       "      <td>NaN</td>\n",
       "    </tr>\n",
       "    <tr>\n",
       "      <th>4</th>\n",
       "      <td>2010</td>\n",
       "      <td>Egypt</td>\n",
       "      <td>ARE</td>\n",
       "      <td>EGY</td>\n",
       "      <td>Albania</td>\n",
       "      <td>ALB</td>\n",
       "      <td>ALB</td>\n",
       "      <td>5</td>\n",
       "      <td>0</td>\n",
       "      <td>0</td>\n",
       "      <td>0</td>\n",
       "      <td>0</td>\n",
       "      <td>0</td>\n",
       "      <td>0</td>\n",
       "      <td>NaN</td>\n",
       "      <td>NaN</td>\n",
       "    </tr>\n",
       "  </tbody>\n",
       "</table>\n",
       "</div>"
      ],
      "text/plain": [
       "   year                coo_name  coo coo_iso     coa_name  coa coa_iso  \\\n",
       "0  2010             Afghanistan  AFG     AFG  Afghanistan  AFG     AFG   \n",
       "1  2010  Iran (Islamic Rep. of)  IRN     IRN  Afghanistan  AFG     AFG   \n",
       "2  2010                    Iraq  IRQ     IRQ  Afghanistan  AFG     AFG   \n",
       "3  2010                Pakistan  PAK     PAK  Afghanistan  AFG     AFG   \n",
       "4  2010                   Egypt  ARE     EGY      Albania  ALB     ALB   \n",
       "\n",
       "   refugees  asylum_seekers  returned_refugees    idps  returned_idps  \\\n",
       "0         0               0                  0  351907           3366   \n",
       "1        30              21                  0       0              0   \n",
       "2         6               0                  0       0              0   \n",
       "3      6398               9                  0       0              0   \n",
       "4         5               0                  0       0              0   \n",
       "\n",
       "   stateless     ooc  oip  hst  \n",
       "0          0  838250  NaN  NaN  \n",
       "1          0       0  NaN  NaN  \n",
       "2          0       0  NaN  NaN  \n",
       "3          0       0  NaN  NaN  \n",
       "4          0       0  NaN  NaN  "
      ]
     },
     "execution_count": 2,
     "metadata": {},
     "output_type": "execute_result"
    }
   ],
   "source": [
    "# Load population.csv from Github\n",
    "url = \"https://raw.githubusercontent.com/rfordatascience/tidytuesday/master/data/2023/2023-08-22/population.csv\"\n",
    "df = pd.read_csv(url)\n",
    "print(df.shape)\n",
    "\n",
    "df.head()"
   ]
  },
  {
   "cell_type": "markdown",
   "id": "9dc16c62",
   "metadata": {},
   "source": [
    "## Split Data into Individual Years\n",
    "- **Analyze 3 single years: 2014, 2018, 2022 - look at single year graphs, each 6 years apart to see trends**"
   ]
  },
  {
   "cell_type": "code",
   "execution_count": 3,
   "id": "dc632213",
   "metadata": {},
   "outputs": [],
   "source": [
    "# Create dfs for specific years\n",
    "df_2014 = df[df['year'] == 2014]\n",
    "df_2018 = df[df['year'] == 2018]\n",
    "df_2022 = df[df['year'] == 2022]\n",
    "\n",
    "# Validate that the DataFrames only contain the expected year\n",
    "assert set(df_2014['year'].unique()) == {2014}\n",
    "assert set(df_2018['year'].unique()) == {2018}\n",
    "assert set(df_2022['year'].unique()) == {2022}"
   ]
  },
  {
   "cell_type": "code",
   "execution_count": 4,
   "id": "b154434f",
   "metadata": {},
   "outputs": [
    {
     "name": "stdout",
     "output_type": "stream",
     "text": [
      "(4746, 16)\n",
      "(5264, 16)\n",
      "(5930, 16)\n"
     ]
    }
   ],
   "source": [
    "print(df_2014.shape)\n",
    "print(df_2018.shape)\n",
    "print(df_2022.shape)"
   ]
  },
  {
   "cell_type": "markdown",
   "id": "9a22416b",
   "metadata": {},
   "source": [
    "## Preprocess refugee movement data to map countries to their country code (ex. Afghanistan -> AFG, Iran (Islamic Rep. of) -> IRN): for 2014, 2018, 2022"
   ]
  },
  {
   "cell_type": "code",
   "execution_count": 5,
   "id": "b7188256",
   "metadata": {},
   "outputs": [],
   "source": [
    "def preprocess_country_nodes_to_csv(df: pd.DataFrame, output_file_path: str) -> None:\n",
    "    \"\"\"Map countries to their country code from a DataFrame containing origin and asylum data.\n",
    "    Saves the resulting country nodes table to CSV file specified by output_file_path.\n",
    "\n",
    "    Args:\n",
    "        df (pd.DataFrame): Refugee data. Will contain the split data for individual years (2014, 2018, 2022).\n",
    "        output_file_path (str): The name of the file path to save the country nodes table to.\n",
    "    Returns:\n",
    "        None.\n",
    "    \"\"\"\n",
    "    # Create origin and asylum countries DF for appending\n",
    "    origin_df = df[['coo_name', 'coo']].rename(columns = {'coo_name': 'country_full', 'coo': 'country'})\n",
    "    asylum_df = df[['coa_name', 'coa']].rename(columns = {'coa_name': 'country_full', 'coa': 'country'})\n",
    "    nodes_df = pd.concat([origin_df, asylum_df])\n",
    "\n",
    "    # Create countries table (nodes)\n",
    "    nodes_df = nodes_df.drop_duplicates()\n",
    "\n",
    "    # Ensure 1:1 mapping between country names and codes\n",
    "    print(\"Nodes DF unique? \", nodes_df['country_full'].is_unique)\n",
    "\n",
    "    # Specify file paths for saving CSVs\n",
    "    main_dir = os.path.abspath(os.path.join(os.getcwd(), '..'))\n",
    "    nodes_path = os.path.join(main_dir, output_file_path)\n",
    "    nodes_df.to_csv(nodes_path, index = False)\n",
    "    return"
   ]
  },
  {
   "cell_type": "code",
   "execution_count": 6,
   "id": "df5219db",
   "metadata": {},
   "outputs": [
    {
     "name": "stdout",
     "output_type": "stream",
     "text": [
      "Nodes DF unique?  True\n",
      "Nodes DF unique?  True\n",
      "Nodes DF unique?  True\n"
     ]
    }
   ],
   "source": [
    "preprocess_country_nodes_to_csv(df_2014, 'nodes_2014.csv')\n",
    "preprocess_country_nodes_to_csv(df_2018, 'nodes_2018.csv')\n",
    "preprocess_country_nodes_to_csv(df_2022, 'nodes_2022.csv')"
   ]
  },
  {
   "cell_type": "markdown",
   "id": "e906dfdb",
   "metadata": {},
   "source": [
    "## Create migration movement relationships for 2014, 2018, 2022"
   ]
  },
  {
   "cell_type": "code",
   "execution_count": 7,
   "id": "7a1ed991",
   "metadata": {},
   "outputs": [],
   "source": [
    "def create_migration_movement_relationship_to_csv(df: pd.DataFrame, output_file_path: str) -> None:\n",
    "    \"\"\"Create migration movement relationships for countries paired via origin and asylum.\n",
    "    Saves the resulting migration relationships table to CSV file specified by output_file_path.\n",
    "\n",
    "    Args:\n",
    "        df (pd.DataFrame): Refugee data. Will contain the split data for individual years (2014, 2018, 2022).\n",
    "        output_file_path (str): The name of the file path to save the country nodes table to.\n",
    "    Returns:\n",
    "        None.\n",
    "    \"\"\"\n",
    "\n",
    "    # Aggregate migration across all years by country pairs\n",
    "    migration_df = df.groupby(['coo', 'coa'])['refugees'].sum().reset_index()\n",
    "    migration_df = migration_df.rename(columns = {'coo': 'from_country', 'coa': 'to_country'})\n",
    "    migration_df = migration_df[migration_df['refugees'] > 0]\n",
    "\n",
    "    # Specify file paths for saving CSV\n",
    "    main_dir = os.path.abspath(os.path.join(os.getcwd(), '..'))\n",
    "    migration_path = os.path.join(main_dir, output_file_path)\n",
    "    migration_df.to_csv(migration_path, index = False)\n",
    "    \n",
    "\n",
    "    # Display summary stats for refugees\n",
    "    migration_df.describe()"
   ]
  },
  {
   "cell_type": "code",
   "execution_count": 8,
   "id": "1191bca1",
   "metadata": {},
   "outputs": [],
   "source": [
    "create_migration_movement_relationship_to_csv(df_2014, 'migration_2014.csv')\n",
    "create_migration_movement_relationship_to_csv(df_2018, 'migration_2018.csv')\n",
    "create_migration_movement_relationship_to_csv(df_2022, 'migration_2022.csv')"
   ]
  }
 ],
 "metadata": {
  "kernelspec": {
   "display_name": "Python 3 (ipykernel)",
   "language": "python",
   "name": "python3"
  },
  "language_info": {
   "codemirror_mode": {
    "name": "ipython",
    "version": 3
   },
   "file_extension": ".py",
   "mimetype": "text/x-python",
   "name": "python",
   "nbconvert_exporter": "python",
   "pygments_lexer": "ipython3",
   "version": "3.9.7"
  }
 },
 "nbformat": 4,
 "nbformat_minor": 5
}
