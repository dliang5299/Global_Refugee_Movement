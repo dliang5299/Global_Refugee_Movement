{
 "cells": [
  {
   "cell_type": "markdown",
   "id": "375f99ea",
   "metadata": {},
   "source": [
    "# Project notebook"
   ]
  },
  {
   "cell_type": "code",
   "execution_count": 1,
   "id": "f536bc48",
   "metadata": {},
   "outputs": [],
   "source": [
    "import numpy as np\n",
    "import pandas as pd\n",
    "import neo4j\n",
    "import os\n",
    "import psycopg2"
   ]
  },
  {
   "cell_type": "markdown",
   "id": "d3a34a37",
   "metadata": {},
   "source": [
    "## Neo4j setup"
   ]
  },
  {
   "cell_type": "code",
   "execution_count": 2,
   "id": "0efb102a",
   "metadata": {},
   "outputs": [],
   "source": [
    "driver = neo4j.GraphDatabase.driver(uri=\"neo4j://neo4j:7687\", auth=(\"neo4j\",\"ucb_mids_w205\"))"
   ]
  },
  {
   "cell_type": "code",
   "execution_count": 3,
   "id": "44e96c59",
   "metadata": {},
   "outputs": [],
   "source": [
    "session = driver.session(database=\"neo4j\")"
   ]
  },
  {
   "cell_type": "code",
   "execution_count": 4,
   "id": "dc5a6521",
   "metadata": {},
   "outputs": [],
   "source": [
    "def my_neo4j_wipe_out_database():\n",
    "    \"wipe out database by deleting all nodes and relationships\"\n",
    "    \n",
    "    query = \"match (node)-[relationship]->() delete node, relationship\"\n",
    "    session.run(query)\n",
    "    \n",
    "    query = \"match (node) delete node\"\n",
    "    session.run(query)"
   ]
  },
  {
   "cell_type": "code",
   "execution_count": 5,
   "id": "ec95b477",
   "metadata": {},
   "outputs": [],
   "source": [
    "def my_neo4j_create_node(country):\n",
    "    \"create a node with label Country\"\n",
    "    \n",
    "    query = \"\"\"\n",
    "    \n",
    "    CREATE (:Country {name: $country})\n",
    "    \n",
    "    \"\"\"\n",
    "    \n",
    "    session.run(query, country=country)\n",
    "    "
   ]
  },
  {
   "cell_type": "code",
   "execution_count": 6,
   "id": "eb8e219a",
   "metadata": {},
   "outputs": [],
   "source": [
    "def my_neo4j_create_relationship_one_way(from_country, to_country, weight):\n",
    "    \"create relationships one way between two countries with a weight\"\n",
    "    \n",
    "    query = \"\"\"\n",
    "    \n",
    "    MATCH (from:Country), \n",
    "          (to:Country)\n",
    "    WHERE from.name = $from_country and to.name = $to_country\n",
    "    CREATE (from)-[:LINK {weight: $weight}]->(to)\n",
    "\n",
    "    \n",
    "    \"\"\"\n",
    "    \n",
    "    session.run(query, from_country=from_country, to_country=to_country, weight=weight)\n",
    "    "
   ]
  },
  {
   "cell_type": "code",
   "execution_count": 7,
   "id": "a3b57035",
   "metadata": {},
   "outputs": [],
   "source": [
    "my_neo4j_wipe_out_database()"
   ]
  },
  {
   "cell_type": "markdown",
   "id": "24e6969e",
   "metadata": {},
   "source": [
    "## Postgres setup"
   ]
  },
  {
   "cell_type": "code",
   "execution_count": 8,
   "id": "df7f9e2b",
   "metadata": {},
   "outputs": [],
   "source": [
    "connection = psycopg2.connect(\n",
    "    user = \"postgres\",\n",
    "    password = \"ucb\",\n",
    "    host = \"postgres\",\n",
    "    port = \"5432\",\n",
    "    database = \"postgres\"\n",
    ")"
   ]
  },
  {
   "cell_type": "code",
   "execution_count": 9,
   "id": "8ae24326",
   "metadata": {},
   "outputs": [],
   "source": [
    "cursor = connection.cursor()"
   ]
  },
  {
   "cell_type": "markdown",
   "id": "8f87fe80",
   "metadata": {},
   "source": [
    "## Importing refugee movement data"
   ]
  },
  {
   "cell_type": "code",
   "execution_count": 10,
   "id": "eb10badd",
   "metadata": {},
   "outputs": [
    {
     "name": "stdout",
     "output_type": "stream",
     "text": [
      "(64809, 16)\n"
     ]
    },
    {
     "data": {
      "text/html": [
       "<div>\n",
       "<style scoped>\n",
       "    .dataframe tbody tr th:only-of-type {\n",
       "        vertical-align: middle;\n",
       "    }\n",
       "\n",
       "    .dataframe tbody tr th {\n",
       "        vertical-align: top;\n",
       "    }\n",
       "\n",
       "    .dataframe thead th {\n",
       "        text-align: right;\n",
       "    }\n",
       "</style>\n",
       "<table border=\"1\" class=\"dataframe\">\n",
       "  <thead>\n",
       "    <tr style=\"text-align: right;\">\n",
       "      <th></th>\n",
       "      <th>year</th>\n",
       "      <th>coo_name</th>\n",
       "      <th>coo</th>\n",
       "      <th>coo_iso</th>\n",
       "      <th>coa_name</th>\n",
       "      <th>coa</th>\n",
       "      <th>coa_iso</th>\n",
       "      <th>refugees</th>\n",
       "      <th>asylum_seekers</th>\n",
       "      <th>returned_refugees</th>\n",
       "      <th>idps</th>\n",
       "      <th>returned_idps</th>\n",
       "      <th>stateless</th>\n",
       "      <th>ooc</th>\n",
       "      <th>oip</th>\n",
       "      <th>hst</th>\n",
       "    </tr>\n",
       "  </thead>\n",
       "  <tbody>\n",
       "    <tr>\n",
       "      <th>0</th>\n",
       "      <td>2010</td>\n",
       "      <td>Afghanistan</td>\n",
       "      <td>AFG</td>\n",
       "      <td>AFG</td>\n",
       "      <td>Afghanistan</td>\n",
       "      <td>AFG</td>\n",
       "      <td>AFG</td>\n",
       "      <td>0</td>\n",
       "      <td>0</td>\n",
       "      <td>0</td>\n",
       "      <td>351907</td>\n",
       "      <td>3366</td>\n",
       "      <td>0</td>\n",
       "      <td>838250</td>\n",
       "      <td>NaN</td>\n",
       "      <td>NaN</td>\n",
       "    </tr>\n",
       "    <tr>\n",
       "      <th>1</th>\n",
       "      <td>2010</td>\n",
       "      <td>Iran (Islamic Rep. of)</td>\n",
       "      <td>IRN</td>\n",
       "      <td>IRN</td>\n",
       "      <td>Afghanistan</td>\n",
       "      <td>AFG</td>\n",
       "      <td>AFG</td>\n",
       "      <td>30</td>\n",
       "      <td>21</td>\n",
       "      <td>0</td>\n",
       "      <td>0</td>\n",
       "      <td>0</td>\n",
       "      <td>0</td>\n",
       "      <td>0</td>\n",
       "      <td>NaN</td>\n",
       "      <td>NaN</td>\n",
       "    </tr>\n",
       "    <tr>\n",
       "      <th>2</th>\n",
       "      <td>2010</td>\n",
       "      <td>Iraq</td>\n",
       "      <td>IRQ</td>\n",
       "      <td>IRQ</td>\n",
       "      <td>Afghanistan</td>\n",
       "      <td>AFG</td>\n",
       "      <td>AFG</td>\n",
       "      <td>6</td>\n",
       "      <td>0</td>\n",
       "      <td>0</td>\n",
       "      <td>0</td>\n",
       "      <td>0</td>\n",
       "      <td>0</td>\n",
       "      <td>0</td>\n",
       "      <td>NaN</td>\n",
       "      <td>NaN</td>\n",
       "    </tr>\n",
       "    <tr>\n",
       "      <th>3</th>\n",
       "      <td>2010</td>\n",
       "      <td>Pakistan</td>\n",
       "      <td>PAK</td>\n",
       "      <td>PAK</td>\n",
       "      <td>Afghanistan</td>\n",
       "      <td>AFG</td>\n",
       "      <td>AFG</td>\n",
       "      <td>6398</td>\n",
       "      <td>9</td>\n",
       "      <td>0</td>\n",
       "      <td>0</td>\n",
       "      <td>0</td>\n",
       "      <td>0</td>\n",
       "      <td>0</td>\n",
       "      <td>NaN</td>\n",
       "      <td>NaN</td>\n",
       "    </tr>\n",
       "    <tr>\n",
       "      <th>4</th>\n",
       "      <td>2010</td>\n",
       "      <td>Egypt</td>\n",
       "      <td>ARE</td>\n",
       "      <td>EGY</td>\n",
       "      <td>Albania</td>\n",
       "      <td>ALB</td>\n",
       "      <td>ALB</td>\n",
       "      <td>5</td>\n",
       "      <td>0</td>\n",
       "      <td>0</td>\n",
       "      <td>0</td>\n",
       "      <td>0</td>\n",
       "      <td>0</td>\n",
       "      <td>0</td>\n",
       "      <td>NaN</td>\n",
       "      <td>NaN</td>\n",
       "    </tr>\n",
       "  </tbody>\n",
       "</table>\n",
       "</div>"
      ],
      "text/plain": [
       "   year                coo_name  coo coo_iso     coa_name  coa coa_iso  \\\n",
       "0  2010             Afghanistan  AFG     AFG  Afghanistan  AFG     AFG   \n",
       "1  2010  Iran (Islamic Rep. of)  IRN     IRN  Afghanistan  AFG     AFG   \n",
       "2  2010                    Iraq  IRQ     IRQ  Afghanistan  AFG     AFG   \n",
       "3  2010                Pakistan  PAK     PAK  Afghanistan  AFG     AFG   \n",
       "4  2010                   Egypt  ARE     EGY      Albania  ALB     ALB   \n",
       "\n",
       "   refugees  asylum_seekers  returned_refugees    idps  returned_idps  \\\n",
       "0         0               0                  0  351907           3366   \n",
       "1        30              21                  0       0              0   \n",
       "2         6               0                  0       0              0   \n",
       "3      6398               9                  0       0              0   \n",
       "4         5               0                  0       0              0   \n",
       "\n",
       "   stateless     ooc  oip  hst  \n",
       "0          0  838250  NaN  NaN  \n",
       "1          0       0  NaN  NaN  \n",
       "2          0       0  NaN  NaN  \n",
       "3          0       0  NaN  NaN  \n",
       "4          0       0  NaN  NaN  "
      ]
     },
     "execution_count": 10,
     "metadata": {},
     "output_type": "execute_result"
    }
   ],
   "source": [
    "# Load population.csv from Github\n",
    "url = \"https://raw.githubusercontent.com/rfordatascience/tidytuesday/master/data/2023/2023-08-22/population.csv\"\n",
    "df = pd.read_csv(url)\n",
    "print(df.shape)\n",
    "\n",
    "df.head()"
   ]
  },
  {
   "cell_type": "markdown",
   "id": "9dc16c62",
   "metadata": {},
   "source": [
    "## Split Data into Individual Years\n",
    "- ~~Attempt with 2 groups: (2010-2016, 2017-2022)~~\n",
    "- **Attempt with 3 single years: 2014, 2018, 2022 - look at single year graphs, each 6 years apart to see trends**"
   ]
  },
  {
   "cell_type": "code",
   "execution_count": 11,
   "id": "dc632213",
   "metadata": {},
   "outputs": [],
   "source": [
    "# Create dfs for specific years\n",
    "df_2014 = df[df['year'] == 2014]\n",
    "df_2018 = df[df['year'] == 2018]\n",
    "df_2022 = df[df['year'] == 2022]\n",
    "\n",
    "# Validate that the DataFrames only contain the expected year\n",
    "assert set(df_2014['year'].unique()) == {2014}\n",
    "assert set(df_2018['year'].unique()) == {2018}\n",
    "assert set(df_2022['year'].unique()) == {2022}"
   ]
  },
  {
   "cell_type": "code",
   "execution_count": 12,
   "id": "b154434f",
   "metadata": {},
   "outputs": [
    {
     "name": "stdout",
     "output_type": "stream",
     "text": [
      "(4746, 16)\n",
      "(5264, 16)\n",
      "(5930, 16)\n"
     ]
    }
   ],
   "source": [
    "print(df_2014.shape)\n",
    "print(df_2018.shape)\n",
    "print(df_2022.shape)"
   ]
  },
  {
   "cell_type": "markdown",
   "id": "9a22416b",
   "metadata": {},
   "source": [
    "## Preprocess refugee movement data to map countries to their country code (ex. Afghanistan -> AFG, Iran (Islamic Rep. of) -> IRN): for 2014, 2018, 2022"
   ]
  },
  {
   "cell_type": "code",
   "execution_count": null,
   "id": "b7188256",
   "metadata": {},
   "outputs": [],
   "source": [
    "def preprocess_country_nodes_to_csv(df: pd.DataFrame, output_file_path: str) -> None:\n",
    "    \"\"\"Map countries to their country code from a DataFrame containing origin and asylum data.\n",
    "    Saves the resulting country nodes table to CSV file specified by output_file_path.\n",
    "\n",
    "    Args:\n",
    "        df (pd.DataFrame): Refugee data. Will contain the split data for individual years (2014, 2018, 2022).\n",
    "        output_file_path (str): The name of the file path to save the country nodes table to.\n",
    "    Returns:\n",
    "        None.\n",
    "    \"\"\"\n",
    "    # Create origin and asylum countries DF for appending\n",
    "    origin_df = df[['coo_name', 'coo']].rename(columns = {'coo_name': 'country_full', 'coo': 'country'})\n",
    "    asylum_df = df[['coa_name', 'coa']].rename(columns = {'coa_name': 'country_full', 'coa': 'country'})\n",
    "    nodes_df = pd.concat([origin_df, asylum_df])\n",
    "\n",
    "    # Create countries table (nodes)\n",
    "    nodes_df = nodes_df.drop_duplicates()\n",
    "\n",
    "    # Ensure 1:1 mapping between country names and codes\n",
    "    print(\"Nodes DF unique? \", nodes_df['country_full'].is_unique)\n",
    "\n",
    "    # Specify file paths for saving CSVs\n",
    "    main_dir = os.path.abspath(os.path.join(os.getcwd(), '..'))\n",
    "    nodes_path = os.path.join(main_dir, output_file_path)\n",
    "    nodes_df.to_csv(nodes_path, index = False)\n",
    "    return"
   ]
  },
  {
   "cell_type": "code",
   "execution_count": null,
   "id": "df5219db",
   "metadata": {},
   "outputs": [],
   "source": [
    "preprocess_country_nodes_to_csv(df_2014, 'nodes_2014.csv')\n",
    "preprocess_country_nodes_to_csv(df_2018, 'nodes_2018.csv')\n",
    "preprocess_country_nodes_to_csv(df_2022, 'nodes_2022.csv')"
   ]
  },
  {
   "cell_type": "markdown",
   "id": "6ecd74cc",
   "metadata": {},
   "source": [
    "## Load CSV file containing country nodes data into postgres"
   ]
  },
  {
   "cell_type": "code",
   "execution_count": null,
   "id": "e3d0ec01",
   "metadata": {},
   "outputs": [],
   "source": [
    "def load_country_nodes_csv_into_postgres(output_file_name: str) -> list[tuple[str]]:\n",
    "    \"\"\"\n",
    "    Creates a \"countries\" table in Postgres, loads data from the specified CSV file into the table,\n",
    "    and then returns the data using `cursor.fetchall()`.\n",
    "    \n",
    "    Args:\n",
    "        output_file_name (str): The name of the CSV file containing the country nodes data \n",
    "            to be loaded into the Postgres table.\n",
    "    Returns:\n",
    "        list[tuple[any]]: A list of 1-item tuples where each tuple represents a row containing \n",
    "            the country code from the country table.\n",
    "    \"\"\"\n",
    "    # Query into countries table for nodes\n",
    "    connection.rollback()\n",
    "\n",
    "    query = \"\"\"\n",
    "\n",
    "    drop table if exists countries;\n",
    "\n",
    "    create table countries (\n",
    "      country_full varchar(100),\n",
    "      country varchar(100)\n",
    "    );\n",
    "\n",
    "    copy countries (country_full, country)\n",
    "    from %(file_path)s delimiter ',' NULL '' csv header;\n",
    "\n",
    "    select country\n",
    "    from countries\n",
    "    order by country;\n",
    "\n",
    "    \"\"\"\n",
    "    \n",
    "    file_path = f\"/user/projects/project-3-dliang5299/{output_file_name}\"\n",
    "    cursor.execute(query, {'file_path': file_path})\n",
    "    \n",
    "    connection.rollback()\n",
    "\n",
    "    rows = cursor.fetchall()\n",
    "    return rows"
   ]
  },
  {
   "cell_type": "markdown",
   "id": "f2a1a063",
   "metadata": {},
   "source": [
    "## Creating + visualizing country nodes from postgres into Neo4j for 2014, 2018, 2022"
   ]
  },
  {
   "cell_type": "code",
   "execution_count": null,
   "id": "d0580f88",
   "metadata": {},
   "outputs": [],
   "source": [
    "my_neo4j_wipe_out_database()\n",
    "# Load country data from 2014 into postgres and create neo4j nodes\n",
    "rows = load_country_nodes_csv_into_postgres('nodes_2014.csv')\n",
    "for row in rows:\n",
    "    country = row[0]\n",
    "    my_neo4j_create_node(country)"
   ]
  },
  {
   "cell_type": "code",
   "execution_count": null,
   "id": "51163d8a",
   "metadata": {},
   "outputs": [],
   "source": [
    "my_neo4j_wipe_out_database()\n",
    "# Load country data from 2018 into postgres and create neo4j nodes\n",
    "rows = load_country_nodes_csv_into_postgres('nodes_2018.csv')\n",
    "for row in rows:\n",
    "    country = row[0]\n",
    "    my_neo4j_create_node(country)"
   ]
  },
  {
   "cell_type": "code",
   "execution_count": null,
   "id": "a8411641",
   "metadata": {},
   "outputs": [],
   "source": [
    "my_neo4j_wipe_out_database()\n",
    "# Load country data from 2022 into postgres and create neo4j nodes\n",
    "rows = load_country_nodes_csv_into_postgres('nodes_2022.csv')\n",
    "for row in rows:\n",
    "    country = row[0]\n",
    "    my_neo4j_create_node(country)"
   ]
  },
  {
   "cell_type": "markdown",
   "id": "e906dfdb",
   "metadata": {},
   "source": [
    "## Create migration movement relationships for 2014, 2018, 2022"
   ]
  },
  {
   "cell_type": "code",
   "execution_count": null,
   "id": "7a1ed991",
   "metadata": {},
   "outputs": [],
   "source": [
    "def create_migration_movement_relationship_to_csv(df: pd.DataFrame, output_file_path: str) -> None:\n",
    "    \"\"\"Create migration movement relationships for countries paired via origin and asylum.\n",
    "    Saves the resulting migration relationships table to CSV file specified by output_file_path.\n",
    "\n",
    "    Args:\n",
    "        df (pd.DataFrame): Refugee data. Will contain the split data for individual years (2014, 2018, 2022).\n",
    "        output_file_path (str): The name of the file path to save the country nodes table to.\n",
    "    Returns:\n",
    "        None.\n",
    "    \"\"\"\n",
    "\n",
    "    # Aggregate migration across all years by country pairs\n",
    "    migration_df = df.groupby(['coo', 'coa'])['refugees'].sum().reset_index()\n",
    "    migration_df = migration_df.rename(columns = {'coo': 'from_country', 'coa': 'to_country'})\n",
    "    migration_df = migration_df[migration_df['refugees'] > 0]\n",
    "\n",
    "    # Specify file paths for saving CSV\n",
    "    main_dir = os.path.abspath(os.path.join(os.getcwd(), '..'))\n",
    "    migration_path = os.path.join(main_dir, output_file_path)\n",
    "    migration_df.to_csv(migration_path, index = False)\n",
    "    \n",
    "\n",
    "    # Display summary stats for refugees\n",
    "    migration_df.describe()"
   ]
  },
  {
   "cell_type": "code",
   "execution_count": null,
   "id": "1191bca1",
   "metadata": {},
   "outputs": [],
   "source": [
    "create_migration_movement_relationship_to_csv(df_2014, 'migration_2014.csv')\n",
    "create_migration_movement_relationship_to_csv(df_2018, 'migration_2018.csv')\n",
    "create_migration_movement_relationship_to_csv(df_2022, 'migration_2022.csv')"
   ]
  },
  {
   "cell_type": "markdown",
   "id": "c9b25848",
   "metadata": {},
   "source": [
    "## Load CSV file containing migration data into postgres"
   ]
  },
  {
   "cell_type": "code",
   "execution_count": null,
   "id": "8adbf742",
   "metadata": {},
   "outputs": [],
   "source": [
    "def load_migration_csv_into_postgres(output_file_name: str) -> list[tuple[any]]:\n",
    "    \"\"\"\n",
    "    Creates a \"migrations\" table in Postgres, loads data from the specified CSV file into the table,\n",
    "    and then returns the data using `cursor.fetchall()`.\n",
    "    \n",
    "    Args:\n",
    "        output_file_name (str): The name of the CSV file containing the migration data to be loaded into the Postgres table.\n",
    "    Returns:\n",
    "        list[tuple[any]]: A list of tuples where each tuple represents a row in the migration table.\n",
    "    \"\"\"\n",
    "    # Query into migration table for relationships\n",
    "    connection.rollback()\n",
    "    \n",
    "    query = \"\"\"\n",
    "\n",
    "    drop table if exists migration;\n",
    "\n",
    "    create table migration (\n",
    "      to_country varchar(100),\n",
    "      from_country varchar(100),\n",
    "      refugees numeric(8)\n",
    "    );\n",
    "\n",
    "    copy migration (to_country, from_country, refugees)\n",
    "    from %(file_path)s delimiter ',' NULL '' csv header;\n",
    "\n",
    "    select to_country, from_country, refugees\n",
    "    from migration\n",
    "    order by to_country, from_country;\n",
    "\n",
    "    \"\"\"\n",
    "    \n",
    "    file_path = f\"/user/projects/project-3-dliang5299/{output_file_name}\"\n",
    "    cursor.execute(query, {'file_path': file_path})\n",
    "    \n",
    "    connection.rollback()\n",
    "\n",
    "    rows = cursor.fetchall()\n",
    "    return rows"
   ]
  },
  {
   "cell_type": "markdown",
   "id": "8200624f",
   "metadata": {},
   "source": [
    "## Creating migration movement graphs from postgres into Neo4j (Only run ONE of 2014, 2018, and 2022 cells based on the year you are assigned, DO NOT run all 3)"
   ]
  },
  {
   "cell_type": "code",
   "execution_count": null,
   "id": "d79aef97",
   "metadata": {},
   "outputs": [],
   "source": [
    "## Load country data from 2014 into postgres and create neo4j nodes\n",
    "rows = load_migration_csv_into_postgres('migration_2014.csv')\n",
    "\n",
    "for row in rows:\n",
    "    \n",
    "    from_country = row[0]\n",
    "    to_country = row[1]\n",
    "    weight = row[2]\n",
    "    \n",
    "    my_neo4j_create_relationship_one_way(from_country, to_country, int(weight))\n"
   ]
  },
  {
   "cell_type": "code",
   "execution_count": null,
   "id": "f9907d5c",
   "metadata": {},
   "outputs": [],
   "source": [
    "# rows[:5] # list first few rows in list "
   ]
  },
  {
   "cell_type": "code",
   "execution_count": null,
   "id": "a6bd1df8",
   "metadata": {},
   "outputs": [],
   "source": [
    "## Load country data from 2018 into postgres and create neo4j nodes\n",
    "rows = load_migration_csv_into_postgres('migration_2018.csv')\n",
    "\n",
    "for row in rows:\n",
    "    \n",
    "    from_country = row[0]\n",
    "    to_country = row[1]\n",
    "    weight = row[2]\n",
    "    \n",
    "    my_neo4j_create_relationship_one_way(from_country, to_country, int(weight))\n"
   ]
  },
  {
   "cell_type": "code",
   "execution_count": null,
   "id": "812e8b71",
   "metadata": {},
   "outputs": [],
   "source": [
    "## Load country data from 2022 into postgres and create neo4j nodes\n",
    "rows = load_migration_csv_into_postgres('migration_2022.csv')\n",
    "\n",
    "for row in rows:\n",
    "    \n",
    "    from_country = row[0]\n",
    "    to_country = row[1]\n",
    "    weight = row[2]\n",
    "    \n",
    "    my_neo4j_create_relationship_one_way(from_country, to_country, int(weight))\n"
   ]
  },
  {
   "cell_type": "markdown",
   "id": "732264d0",
   "metadata": {},
   "source": [
    "## Explore relationships + algorithms for 20XX"
   ]
  },
  {
   "cell_type": "code",
   "execution_count": null,
   "id": "4d4e0083",
   "metadata": {},
   "outputs": [],
   "source": [
    "def my_neo4j_run_query_pandas(query, **kwargs):\n",
    "    \"run a query and return the results in a pandas dataframe\"\n",
    "    \n",
    "    result = session.run(query, **kwargs)\n",
    "    \n",
    "    df = pd.DataFrame([r.values() for r in result], columns=result.keys())\n",
    "    \n",
    "    return df"
   ]
  },
  {
   "cell_type": "code",
   "execution_count": null,
   "id": "e90a9076",
   "metadata": {},
   "outputs": [],
   "source": [
    "def my_neo4j_nodes_relationships():\n",
    "    \"print all the nodes and relationships\"\n",
    "   \n",
    "    print(\"-------------------------\")\n",
    "    print(\"  Nodes:\")\n",
    "    print(\"-------------------------\")\n",
    "    \n",
    "    query = \"\"\"\n",
    "        match (n) \n",
    "        return n.name as node_name, labels(n) as labels\n",
    "        order by n.name\n",
    "    \"\"\"\n",
    "    \n",
    "    df = my_neo4j_run_query_pandas(query)\n",
    "    \n",
    "    number_nodes = df.shape[0]\n",
    "    \n",
    "    display(df)\n",
    "    \n",
    "    print(\"-------------------------\")\n",
    "    print(\"  Relationships:\")\n",
    "    print(\"-------------------------\")\n",
    "    \n",
    "    query = \"\"\"\n",
    "        match (n1)-[r]->(n2) \n",
    "        return n1.name as node_name_1, labels(n1) as node_1_labels, \n",
    "            type(r) as relationship_type, n2.name as node_name_2, labels(n2) as node_2_labels\n",
    "        order by node_name_1, node_name_2\n",
    "    \"\"\"\n",
    "    \n",
    "    df = my_neo4j_run_query_pandas(query)\n",
    "    \n",
    "    number_relationships = df.shape[0]\n",
    "    \n",
    "    display(df)\n",
    "    \n",
    "    density = (2 * number_relationships) / (number_nodes * (number_nodes - 1))\n",
    "    \n",
    "    print(\"-------------------------\")\n",
    "    print(\"  Density:\", f'{density:.1f}')\n",
    "    print(\"-------------------------\")\n",
    "    "
   ]
  },
  {
   "cell_type": "code",
   "execution_count": null,
   "id": "81b2d436",
   "metadata": {},
   "outputs": [],
   "source": [
    "# for 20XX database loaded \n",
    "my_neo4j_nodes_relationships()\n",
    "\n",
    "# observe a density of .2 --> sparse graph or low density"
   ]
  },
  {
   "cell_type": "markdown",
   "id": "187d32c0",
   "metadata": {},
   "source": [
    "### Alg #1: Degree Centrality \n",
    "\n",
    "High degree centrality shows countries with most creation of refugees / grant asylum \n",
    "In this graph, we see top countries sending refugees: "
   ]
  },
  {
   "cell_type": "code",
   "execution_count": null,
   "id": "313f014a",
   "metadata": {},
   "outputs": [],
   "source": [
    "# degree centrality \n",
    "query = \"CALL gds.graph.drop('ds_graph', false) yield graphName\"\n",
    "session.run(query)\n",
    "\n",
    "query = \"CALL gds.graph.project('ds_graph', 'Country', 'LINK')\"\n",
    "session.run(query)"
   ]
  },
  {
   "cell_type": "code",
   "execution_count": null,
   "id": "4f964e56",
   "metadata": {},
   "outputs": [],
   "source": [
    "query = \"\"\"\n",
    "\n",
    "CALL gds.degree.stream('ds_graph')\n",
    "YIELD nodeId, score\n",
    "RETURN gds.util.asNode(nodeId).name AS name, score as degree\n",
    "ORDER BY degree DESC, name\n",
    "limit 20\n",
    "\n",
    "\"\"\"\n",
    "\n",
    "my_neo4j_run_query_pandas(query)"
   ]
  },
  {
   "cell_type": "markdown",
   "id": "1a3895e1",
   "metadata": {},
   "source": [
    "This shows top countries sending refugees: \n",
    "- Somalia\n",
    "- Democratic Republic of the Congo\n",
    "- Iraq\n",
    "- Sudan\n",
    "- Iran\n",
    "- Ethiopia\n",
    "- Afghanistan\n",
    "- Liberia "
   ]
  },
  {
   "cell_type": "markdown",
   "id": "4cfa8201",
   "metadata": {},
   "source": [
    "## Alg #2: Pagerank\n",
    "\n",
    "Most influential countries granting asylum "
   ]
  },
  {
   "cell_type": "code",
   "execution_count": null,
   "id": "802cd73a",
   "metadata": {},
   "outputs": [],
   "source": [
    "query = \"\"\"\n",
    "\n",
    "CALL gds.pageRank.stream('ds_graph',\n",
    "                         { maxIterations: $max_iterations,\n",
    "                           dampingFactor: $damping_factor}\n",
    "                         )\n",
    "YIELD nodeId, score\n",
    "RETURN gds.util.asNode(nodeId).name AS name, score as page_rank\n",
    "ORDER BY page_rank DESC, name ASC\n",
    "limit 20\n",
    "\n",
    "\"\"\"\n",
    "\n",
    "max_iterations = 20\n",
    "damping_factor = 0.05\n",
    "\n",
    "my_neo4j_run_query_pandas(query, max_iterations=max_iterations, damping_factor=damping_factor)\n"
   ]
  },
  {
   "cell_type": "markdown",
   "id": "e2969601",
   "metadata": {},
   "source": [
    "## Alg #3: Randomized-Approximate Brandes \n",
    "Since betweenness can be very time consuming and expensive due to all pairs shortest path\n",
    "\n",
    "High betweeness shows the intermediate countries that act as places of temporary refuge "
   ]
  },
  {
   "cell_type": "code",
   "execution_count": null,
   "id": "926138ea",
   "metadata": {},
   "outputs": [],
   "source": [
    "query = \"\"\"\n",
    "\n",
    "CALL gds.betweenness.stream('ds_graph', {samplingSize: $sampling_size, samplingSeed: $sampling_seed})\n",
    "YIELD nodeId, score\n",
    "RETURN gds.util.asNode(nodeId).name AS name, score as betweenness\n",
    "ORDER BY betweenness DESC\n",
    "limit 20\n",
    "\n",
    "\"\"\"\n",
    "\n",
    "sampling_size = 5\n",
    "sampling_seed = 0\n",
    "\n",
    "my_neo4j_run_query_pandas(query, sampling_size=sampling_size, sampling_seed=sampling_seed)\n"
   ]
  }
 ],
 "metadata": {
  "kernelspec": {
   "display_name": "Python 3 (ipykernel)",
   "language": "python",
   "name": "python3"
  },
  "language_info": {
   "codemirror_mode": {
    "name": "ipython",
    "version": 3
   },
   "file_extension": ".py",
   "mimetype": "text/x-python",
   "name": "python",
   "nbconvert_exporter": "python",
   "pygments_lexer": "ipython3",
   "version": "3.9.7"
  }
 },
 "nbformat": 4,
 "nbformat_minor": 5
}
